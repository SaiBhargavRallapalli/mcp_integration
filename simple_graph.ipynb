{
 "cells": [
  {
   "cell_type": "code",
   "execution_count": 194,
   "metadata": {},
   "outputs": [
    {
     "data": {
      "text/plain": [
       "True"
      ]
     },
     "execution_count": 194,
     "metadata": {},
     "output_type": "execute_result"
    }
   ],
   "source": [
    "from langchain_groq import ChatGroq\n",
    "from dotenv import load_dotenv\n",
    "import os\n",
    "from langchain_core.messages import BaseMessage\n",
    "from typing import TypedDict, Annotated, Sequence\n",
    "import operator\n",
    "from pydantic import BaseModel , Field\n",
    "from langchain.output_parsers import PydanticOutputParser\n",
    "from langchain.prompts import PromptTemplate\n",
    "from langgraph.graph import StateGraph,END\n",
    "import requests\n",
    "import json\n",
    "import os\n",
    "from langchain_core.runnables import RunnableLambda\n",
    "\n",
    "load_dotenv()"
   ]
  },
  {
   "cell_type": "code",
   "execution_count": 195,
   "metadata": {},
   "outputs": [],
   "source": [
    "HOROSCOPE_ENDPOINT = os.getenv('HOROSCOPE_ENDPOINT')\n",
    "WEATHER_ENDPOINT = os.getenv('WEATHER_ENDPOINT')"
   ]
  },
  {
   "cell_type": "code",
   "execution_count": 196,
   "metadata": {},
   "outputs": [],
   "source": [
    "# Step 1 - Define state class\n",
    "class AgentState(TypedDict):\n",
    "    messages: Annotated[Sequence[BaseMessage], operator.add]"
   ]
  },
  {
   "cell_type": "code",
   "execution_count": 197,
   "metadata": {},
   "outputs": [],
   "source": [
    "# Step 2 - Load env and initialize the model\n",
    "load_dotenv()\n",
    "os.environ[\"GROQ_API_KEY\"] = os.getenv(\"GROQ_API_KEY\")\n",
    "model = ChatGroq(model=\"deepseek-r1-distill-llama-70b\")"
   ]
  },
  {
   "cell_type": "code",
   "execution_count": 198,
   "metadata": {},
   "outputs": [],
   "source": [
    "# Step 3 - Define output schema from the supervisor node\n",
    "class TopicSelectionParser(BaseModel):\n",
    "    Intent: str = Field(description='Intent of the question')\n",
    "    Entities: dict[str, str] = Field(description='Entities in the question')\n",
    "    Reasoning: str = Field(description='Reasoning behind topic selection')\n"
   ]
  },
  {
   "cell_type": "code",
   "execution_count": 199,
   "metadata": {},
   "outputs": [],
   "source": [
    "parser = PydanticOutputParser(pydantic_object=TopicSelectionParser)\n"
   ]
  },
  {
   "cell_type": "code",
   "execution_count": 200,
   "metadata": {},
   "outputs": [],
   "source": [
    "def node1(state: AgentState):\n",
    "    print(\"\\n--- Supervisor Node ---\")\n",
    "    question = state[\"messages\"][-1]\n",
    "    print(\"Question:\", question)\n",
    "\n",
    "    template = \"\"\"\n",
    "    Your task is to classify the given user query into one of the following Intent: [Horoscope, Weather, Not Related]. \n",
    "    Only respond with the intent name and nothing else. If there is intent name in the question, then return the intent name along with the entities.\n",
    "    For Horoscope, the entities are zodiac_sign the value of it should start with capital letter eg: Libra. For Weather, the entities are location.\n",
    "    {format_instructions}\n",
    "    Question: {question}\n",
    "    \"\"\"\n",
    "    prompt = PromptTemplate(\n",
    "        template=template,\n",
    "        input_variables=[\"question\"],\n",
    "        partial_variables={\"format_instructions\": parser.get_format_instructions()}\n",
    "    )\n",
    "    chain = prompt | model | parser\n",
    "    response = chain.invoke({\"question\": question})\n",
    "    response_dict = response.model_dump()\n",
    "    response_dict[\"question\"] = question\n",
    "    # print(\"Parsed response:\", response_dict)\n",
    "    return {\"messages\": [response_dict]}\n"
   ]
  },
  {
   "cell_type": "code",
   "execution_count": 201,
   "metadata": {},
   "outputs": [],
   "source": [
    "def router(state: AgentState):\n",
    "    last_msg = state[\"messages\"][-1]\n",
    "    print(\"\\n--- Router Debug ---\")\n",
    "    print(\"Last Message:\", last_msg)\n",
    "\n",
    "    intent = last_msg.get(\"Intent\", \"\").lower()\n",
    "    print(\"Detected Intent:\", intent)\n",
    "\n",
    "    if \"horoscope\" in intent:\n",
    "        result = \"Horoscope\"\n",
    "    elif \"weather\" in intent:\n",
    "        result = \"Weather\"\n",
    "    else:\n",
    "        result = \"LLM\"\n",
    "\n",
    "    print(\"Router returning:\", repr(result), \"| Type:\", type(result))\n",
    "    assert result in [\"Horoscope\", \"Weather\", \"LLM\"], \"Router returned invalid path\"\n",
    "    return result\n"
   ]
  },
  {
   "cell_type": "code",
   "execution_count": 202,
   "metadata": {},
   "outputs": [],
   "source": [
    "# Step 6 - LLM Node\n",
    "def node2(state: AgentState):\n",
    "    print(\"\\n--- LLM Node ---\")\n",
    "    question = state[\"messages\"][-1][\"question\"]\n",
    "    complete_query = \"Answer the following question using real-world knowledge: \" + question\n",
    "    response = model.invoke(complete_query)\n",
    "    # Remove <think>...</think> and only return the final message\n",
    "    content = response.content\n",
    "    if \"</think>\" in content:\n",
    "        content = content.split(\"</think>\", 1)[-1].strip()\n",
    "    return {\"messages\": [content]}\n"
   ]
  },
  {
   "cell_type": "code",
   "execution_count": 203,
   "metadata": {},
   "outputs": [],
   "source": [
    "# # Step 7 - Horoscope Node\n",
    "# def node3(state: AgentState):\n",
    "#     print(\"\\n--- Horoscope Node ---\")\n",
    "#     parsed_msg = state[\"messages\"][-1]\n",
    "#     question = parsed_msg.get(\"question\", \"\")\n",
    "#     sign = parsed_msg.get(\"Entities\", {}).get(\"zodiac\") or parsed_msg.get(\"Entities\", {}).get(\"sign\") or parsed_msg.get(\"Entities\", {}).get(\"zodiac_sign\")\n",
    "\n",
    "#     if sign:\n",
    "#         try:\n",
    "#             url = f\"{HOROSCOPE_ENDPOINT}&zodiac={sign}\"\n",
    "#             response = requests.get(url)\n",
    "#             answer = response.json()  # Parse as JSON\n",
    "#             print(\"Parsed answer:\", answer)\n",
    "#             # Defensive: check for 'data' and keys\n",
    "#             if \"data\" in answer and answer[\"data\"]:\n",
    "#                 date = answer[\"data\"].get(\"date\", \"\")\n",
    "#                 profession = answer[\"data\"].get(\"profession\", \"\")\n",
    "#                 love = answer[\"data\"].get(\"love\", \"\")\n",
    "#                 return {\"messages\": [f\"Your horoscope prediction for {date} is: {profession} and {love}\"]}\n",
    "#             else:\n",
    "#                 return {\"messages\": [f\"Unexpected response format from horoscope API: {answer}\"]}\n",
    "#         except Exception as e:\n",
    "#             answer = f\"Failed to fetch horoscope data: {str(e)}\"\n",
    "#             return {\"messages\": [answer]}\n",
    "#     else:\n",
    "#         answer = \"Zodiac sign not found.\"\n",
    "#         return {\"messages\": [answer]}\n",
    "\n",
    "#     # complete_query = f\"Make this user-friendly. Response: {answer}\"\n",
    "#     # response = model.invoke(complete_query)\n",
    "#     # return {\"messages\": [response.content]}\n",
    "#     # return {\"messages\": json.loads(answer)}\n"
   ]
  },
  {
   "cell_type": "code",
   "execution_count": 204,
   "metadata": {},
   "outputs": [],
   "source": [
    "# def node3(state: AgentState):\n",
    "#     print(\"\\n--- Horoscope Node (via MCP) ---\")\n",
    "#     parsed_msg = state[\"messages\"][-1]\n",
    "#     question = parsed_msg.get(\"question\", \"\")\n",
    "#     sign = parsed_msg.get(\"Entities\", {}).get(\"zodiac\") or parsed_msg.get(\"Entities\", {}).get(\"sign\") or parsed_msg.get(\"Entities\", {}).get(\"zodiac_sign\")\n",
    "\n",
    "#     if sign:\n",
    "#         try:\n",
    "#             payload = {\n",
    "#                 \"jsonrpc\": \"2.0\",\n",
    "#                 \"id\": 1,\n",
    "#                 \"method\": \"tools/call\",\n",
    "#                 \"params\": {\n",
    "#                     \"name\": \"get_horoscope\",\n",
    "#                     \"arguments\": {\n",
    "#                         \"zodiac_sign\": sign,\n",
    "#                         \"horoscope_type\": \"DAILY\"\n",
    "#                     }\n",
    "#                 }\n",
    "#             }\n",
    "#             headers = {\n",
    "#                 \"Content-Type\": \"application/json\",\n",
    "#                 \"Accept\": \"application/json, text/event-stream\"\n",
    "#             }\n",
    "#             response = requests.post(\"http://localhost:8001/mcp/\", headers=headers, data=json.dumps(payload))\n",
    "#             result = response.json()\n",
    "            \n",
    "\n",
    "#             print(\"MCP Horoscope Result:\", result)\n",
    "\n",
    "#             # Parse response\n",
    "#             data = result.get(\"result\", {})\n",
    "#             date = data.get(\"date\", \"today\")\n",
    "#             profession = data.get(\"profession\", \"\")\n",
    "#             love = data.get(\"love\", \"\")\n",
    "#             return {\"messages\": [f\"Your horoscope for {sign} on {date}:\\n💼 Career: {profession}\\n❤️ Love: {love}\"]}\n",
    "#         except Exception as e:\n",
    "#             return {\"messages\": [f\"Error while calling MCP Horoscope Tool: {str(e)}\"]}\n",
    "#     else:\n",
    "#         return {\"messages\": [\"Zodiac sign not found in your query. Please mention it like 'Libra', 'Gemini', etc.\"]}\n"
   ]
  },
  {
   "cell_type": "code",
   "execution_count": 205,
   "metadata": {},
   "outputs": [],
   "source": [
    "async def node3(state: AgentState):\n",
    "    print(\"\\n--- Horoscope Node ---\")\n",
    "    parsed_msg = state[\"messages\"][-1]\n",
    "    question = parsed_msg.get(\"question\", \"\")\n",
    "    sign = parsed_msg.get(\"Entities\", {}).get(\"zodiac\") or \\\n",
    "           parsed_msg.get(\"Entities\", {}).get(\"sign\") or \\\n",
    "           parsed_msg.get(\"Entities\", {}).get(\"zodiac_sign\")\n",
    "\n",
    "    if not sign:\n",
    "        return {\"messages\": [\"Zodiac sign not found.\"]}\n",
    "\n",
    "    MCP_URL = \"http://localhost:8001/mcp/\"\n",
    "    payload = {\n",
    "        \"jsonrpc\": \"2.0\",\n",
    "        \"id\": 1,\n",
    "        \"method\": \"tools/call\",\n",
    "        \"params\": {\n",
    "            \"name\": \"get_horoscope\",\n",
    "            \"arguments\": {\n",
    "                \"zodiac_sign\": sign,\n",
    "                \"horoscope_type\": \"DAILY\"\n",
    "            }\n",
    "        }\n",
    "    }\n",
    "\n",
    "    try:\n",
    "        async with aiohttp.ClientSession() as session:\n",
    "            async with session.post(MCP_URL, json=payload, headers={\n",
    "                \"Content-Type\": \"application/json\",\n",
    "                \"Accept\": \"application/json, text/event-stream\"\n",
    "            }) as resp:\n",
    "                if resp.status != 200:\n",
    "                    return {\"messages\": [f\"Failed to fetch horoscope. Status code: {resp.status}\"]}\n",
    "\n",
    "                async for line in resp.content:\n",
    "                    decoded = line.decode(\"utf-8\").strip()\n",
    "                    if decoded.startswith(\"data:\"):\n",
    "                        json_data = decoded.replace(\"data:\", \"\", 1).strip()\n",
    "                        try:\n",
    "                            result = json.loads(json_data)\n",
    "                            print(\"Parsed MCP Result:\", result)\n",
    "\n",
    "                            if \"result\" in result:\n",
    "                                content_list = result[\"result\"].get(\"content\", [])\n",
    "                                if content_list and isinstance(content_list, list):\n",
    "                                    full_text = content_list[0].get(\"text\", \"\")\n",
    "                                    return {\"messages\": [full_text]}\n",
    "                                else:\n",
    "                                    return {\"messages\": [\"Horoscope content not found.\"]}\n",
    "                            else:\n",
    "                                return {\"messages\": [f\"Unexpected response from MCP: {result}\"]}\n",
    "                        except json.JSONDecodeError as e:\n",
    "                            return {\"messages\": [f\"Error decoding JSON from stream: {e}\"]}\n",
    "\n",
    "                return {\"messages\": [\"No data received from MCP stream.\"]}\n",
    "\n",
    "    except Exception as e:\n",
    "        return {\"messages\": [f\"Error while calling MCP: {str(e)}\"]}\n"
   ]
  },
  {
   "cell_type": "code",
   "execution_count": 206,
   "metadata": {},
   "outputs": [],
   "source": [
    "# Step 8 - Weather Node\n",
    "def node4(state: AgentState):\n",
    "    print(\"\\n--- Weather Node ---\")\n",
    "    parsed_msg = state[\"messages\"][-1]\n",
    "    question = parsed_msg.get(\"question\", \"\")\n",
    "    location = parsed_msg.get(\"Entities\", {}).get(\"location\")\n",
    "\n",
    "    if location:\n",
    "        try:\n",
    "            url = f\"{WEATHER_ENDPOINT}&q={location}&aqi=no\"\n",
    "            response = requests.get(url)\n",
    "            answer = response.json()  # Parse as JSON\n",
    "            print(\"Parsed weather answer:\", answer)\n",
    "            if \"location\" in answer and \"current\" in answer:\n",
    "                loc_name = answer[\"location\"].get(\"name\", \"\")\n",
    "                temp_c = answer[\"current\"].get(\"temp_c\", \"\")\n",
    "                feelslike_c = answer[\"current\"].get(\"feelslike_c\", \"\")\n",
    "                humidity = answer[\"current\"].get(\"humidity\", \"\")\n",
    "                return {\"messages\": [f\"Currently the weather in {loc_name} is {temp_c} degree celcius feels like {feelslike_c} degree celcius and humidity is {humidity} percent.\"]}\n",
    "            else:\n",
    "                return {\"messages\": [f\"Unexpected response format from weather API: {answer}\"]}\n",
    "        except Exception as e:\n",
    "            answer = f\"Failed to fetch weather data: {str(e)}\"\n",
    "            return {\"messages\": [answer]}\n",
    "    else:\n",
    "        answer = \"Location not found.\"\n",
    "        return {\"messages\": [answer]}\n"
   ]
  },
  {
   "cell_type": "code",
   "execution_count": 207,
   "metadata": {},
   "outputs": [
    {
     "data": {
      "text/plain": [
       "<langgraph.graph.state.StateGraph at 0x130f986b0>"
      ]
     },
     "execution_count": 207,
     "metadata": {},
     "output_type": "execute_result"
    }
   ],
   "source": [
    "workflow = StateGraph(AgentState)\n",
    "\n",
    "workflow.add_node(\"Supervisor\", node1)\n",
    "workflow.add_node(\"LLM\", node2)\n",
    "workflow.add_node(\"Horoscope\", RunnableLambda(node3))\n",
    "workflow.add_node(\"Weather\", node4)\n",
    "\n",
    "workflow.set_entry_point(\"Supervisor\")\n",
    "\n",
    "workflow.add_conditional_edges(\n",
    "\"Supervisor\", \n",
    "router, {\n",
    "    \"Horoscope\": \"Horoscope\",\n",
    "    \"Weather\": \"Weather\",\n",
    "    \"LLM\": \"LLM\"\n",
    "})\n",
    "workflow.add_edge(\"Horoscope\", END)\n",
    "workflow.add_edge(\"Weather\", END)\n",
    "workflow.add_edge(\"LLM\", END)"
   ]
  },
  {
   "cell_type": "code",
   "execution_count": 208,
   "metadata": {},
   "outputs": [],
   "source": [
    "# initial_state = AgentState(messages=[{\n",
    "#     \"question\": \"Libra horoscope for today\",\n",
    "#     \"Intent\": \"Horoscope\",\n",
    "#     \"Entities\": {\n",
    "#         \"zodiac_sign\": \"Libra\"\n",
    "#     }\n",
    "# }])\n",
    "\n",
    "# # Compile and invoke the graph\n",
    "# app = workflow.compile()\n",
    "# final_state = await app.invoke(initial_state)\n",
    "# print(\"Final Output:\", final_state)"
   ]
  },
  {
   "cell_type": "code",
   "execution_count": 209,
   "metadata": {},
   "outputs": [],
   "source": [
    "app = workflow.compile()"
   ]
  },
  {
   "cell_type": "code",
   "execution_count": 210,
   "metadata": {},
   "outputs": [
    {
     "data": {
      "image/png": "[encoded data removed]",
      "text/plain": [
       "<langgraph.graph.state.CompiledStateGraph object at 0x130f65070>"
      ]
     },
     "execution_count": 210,
     "metadata": {},
     "output_type": "execute_result"
    }
   ],
   "source": [
    "app"
   ]
  },
  {
   "cell_type": "code",
   "execution_count": 211,
   "metadata": {},
   "outputs": [
    {
     "name": "stdout",
     "output_type": "stream",
     "text": [
      "Registered nodes in the workflow:\n",
      "dict_keys(['Supervisor', 'LLM', 'Horoscope', 'Weather'])\n"
     ]
    }
   ],
   "source": [
    "print(\"Registered nodes in the workflow:\")\n",
    "print(workflow.nodes.keys())"
   ]
  },
  {
   "cell_type": "code",
   "execution_count": 212,
   "metadata": {},
   "outputs": [
    {
     "name": "stdout",
     "output_type": "stream",
     "text": [
      "\n",
      "--- Supervisor Node ---\n",
      "Question: libra horoscope for today\n",
      "\n",
      "--- Router Debug ---\n",
      "Last Message: {'Intent': 'Horoscope', 'Entities': {'zodiac_sign': 'Libra'}, 'Reasoning': \"The question explicitly mentions 'horoscope' and 'libra', which are directly related to the Horoscope intent.\", 'question': 'libra horoscope for today'}\n",
      "Detected Intent: horoscope\n",
      "Router returning: 'Horoscope' | Type: <class 'str'>\n",
      "\n",
      "--- Horoscope Node ---\n",
      "Parsed MCP Result: {'jsonrpc': '2.0', 'id': 1, 'result': {'content': [{'type': 'text', 'text': 'Horoscope for *Libra* (DAILY) on 2025-06-11:\\n\\nPersonal:\\nToday might not be the best day for your love life. A fight has the potential to get ugly, but don’t worry, all will pass quickly.\\n\\nTravel:\\nAre you fulfilled with your travel adventures this year? If not, now is the time to change that. \\n\\nLuck:\\nRemember your special moments forever. They will give you a profound appreciation for your good fortune\\n\\nProfession:\\nDon’t rush into combining your money with others for a project. Make sure you have all the facts first.\\n\\nHealth:\\nDon’t be too hard on yourself. The inner perfectionist in you needs to take a break every once in a while.\\n\\nEmotions:\\nA small but seismic change is coming.'}], 'isError': False}}\n"
     ]
    },
    {
     "data": {
      "text/plain": [
       "{'messages': ['libra horoscope for today',\n",
       "  {'Intent': 'Horoscope',\n",
       "   'Entities': {'zodiac_sign': 'Libra'},\n",
       "   'Reasoning': \"The question explicitly mentions 'horoscope' and 'libra', which are directly related to the Horoscope intent.\",\n",
       "   'question': 'libra horoscope for today'},\n",
       "  'Horoscope for *Libra* (DAILY) on 2025-06-11:\\n\\nPersonal:\\nToday might not be the best day for your love life. A fight has the potential to get ugly, but don’t worry, all will pass quickly.\\n\\nTravel:\\nAre you fulfilled with your travel adventures this year? If not, now is the time to change that. \\n\\nLuck:\\nRemember your special moments forever. They will give you a profound appreciation for your good fortune\\n\\nProfession:\\nDon’t rush into combining your money with others for a project. Make sure you have all the facts first.\\n\\nHealth:\\nDon’t be too hard on yourself. The inner perfectionist in you needs to take a break every once in a while.\\n\\nEmotions:\\nA small but seismic change is coming.']}"
      ]
     },
     "execution_count": 212,
     "metadata": {},
     "output_type": "execute_result"
    }
   ],
   "source": [
    " await app.ainvoke({\"messages\": [\"libra horoscope for today\"]})"
   ]
  }
 ],
 "metadata": {
  "kernelspec": {
   "display_name": ".venv",
   "language": "python",
   "name": "python3"
  },
  "language_info": {
   "codemirror_mode": {
    "name": "ipython",
    "version": 3
   },
   "file_extension": ".py",
   "mimetype": "text/x-python",
   "name": "python",
   "nbconvert_exporter": "python",
   "pygments_lexer": "ipython3",
   "version": "3.12.9"
  }
 },
 "nbformat": 4,
 "nbformat_minor": 2
}
